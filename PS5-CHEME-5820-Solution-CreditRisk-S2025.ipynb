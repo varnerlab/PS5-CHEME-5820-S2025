{
 "cells": [
  {
   "cell_type": "markdown",
   "id": "fd638f86-ae37-4d57-90b7-6b3d506eb03a",
   "metadata": {},
   "source": [
    "# PS5: Classification of Consumer Credit Score\n",
    "In this problem we will construct, train and evaluate a feedforward neural network to classify consumer credit risk."
   ]
  },
  {
   "cell_type": "markdown",
   "id": "f483cd66",
   "metadata": {},
   "source": [
    "## Task 1: Setup, Data, and Prerequisites\n",
    "In this task, we'll set up the computational environment, load the necessary packages, and prepare the `world(...)` function for our personal shopper problem. We will also define any constants we use throughout the problem set.\n",
    "\n",
    "We set up the computational environment by including the `Include.jl` file, loading any needed resources, such as sample datasets, and setting up any required constants. \n",
    "* The `Include.jl` file also loads external packages, various functions that we will use in the exercise, and custom types to model the components of our problem. It checks for a `Manifest.toml` file; if it finds one, packages are loaded. Other packages are downloaded and then loaded."
   ]
  },
  {
   "cell_type": "code",
   "execution_count": 1,
   "id": "8f3cd9f8",
   "metadata": {},
   "outputs": [],
   "source": [
    "include(\"Include.jl\"); # This will load necessary packages and functions"
   ]
  },
  {
   "cell_type": "markdown",
   "id": "58c656ea",
   "metadata": {},
   "source": [
    "### Data\n",
    "Next, let's load the data. The dataset is a CSV file containing information about consumer credit risk, and is [available on Kaggle](https://www.kaggle.com/datasets/sudhanshu2198/processed-data-credit-score?resource=download). \n",
    "* _What's in the dataset?_ The dataset contains apporimately 100k records, where each record contains feature variables related to consumer credit, such as income, age, and other relevant attributes that may influence credit risk. The label variable for each record indicates whether the consumer is a good or bad credit risk, i.e., has a `(Poor | Standard | Good)` credit score. \n",
    "\n",
    "Let's load the raw dataset, do some data wrangling, and split the data into training and test sets. We'll save the raw data in the `raw_data::DataFrame` variable."
   ]
  },
  {
   "cell_type": "code",
   "execution_count": 2,
   "id": "f46b1168",
   "metadata": {},
   "outputs": [
    {
     "data": {
      "text/html": [
       "<div><div style = \"float: left;\"><span>99960×21 DataFrame</span></div><div style = \"float: right;\"><span style = \"font-style: italic;\">99935 rows omitted</span></div><div style = \"clear: both;\"></div></div><div class = \"data-frame\" style = \"overflow-x: scroll;\"><table class = \"data-frame\" style = \"margin-bottom: 6px;\"><thead><tr class = \"header\"><th class = \"rowNumber\" style = \"font-weight: bold; text-align: right;\">Row</th><th style = \"text-align: left;\">Delay_from_due_date</th><th style = \"text-align: left;\">Num_of_Delayed_Payment</th><th style = \"text-align: left;\">Num_Credit_Inquiries</th><th style = \"text-align: left;\">Credit_Utilization_Ratio</th><th style = \"text-align: left;\">Credit_History_Age</th><th style = \"text-align: left;\">Payment_of_Min_Amount</th><th style = \"text-align: left;\">Amount_invested_monthly</th><th style = \"text-align: left;\">Monthly_Balance</th><th style = \"text-align: left;\">Credit_Score</th><th style = \"text-align: left;\">Credit_Mix</th><th style = \"text-align: left;\">Payment_Behaviour</th><th style = \"text-align: left;\">Age</th><th style = \"text-align: left;\">Annual_Income</th><th style = \"text-align: left;\">Num_Bank_Accounts</th><th style = \"text-align: left;\">Num_Credit_Card</th><th style = \"text-align: left;\">Interest_Rate</th><th style = \"text-align: left;\">Num_of_Loan</th><th style = \"text-align: left;\">Monthly_Inhand_Salary</th><th style = \"text-align: left;\">Changed_Credit_Limit</th><th style = \"text-align: left;\">Outstanding_Debt</th><th style = \"text-align: left;\">Total_EMI_per_month</th></tr><tr class = \"subheader headerLastRow\"><th class = \"rowNumber\" style = \"font-weight: bold; text-align: right;\"></th><th title = \"Float64\" style = \"text-align: left;\">Float64</th><th title = \"Float64\" style = \"text-align: left;\">Float64</th><th title = \"Float64\" style = \"text-align: left;\">Float64</th><th title = \"Float64\" style = \"text-align: left;\">Float64</th><th title = \"Float64\" style = \"text-align: left;\">Float64</th><th title = \"String3\" style = \"text-align: left;\">String3</th><th title = \"Float64\" style = \"text-align: left;\">Float64</th><th title = \"Float64\" style = \"text-align: left;\">Float64</th><th title = \"String15\" style = \"text-align: left;\">String15</th><th title = \"String15\" style = \"text-align: left;\">String15</th><th title = \"String\" style = \"text-align: left;\">String</th><th title = \"Float64\" style = \"text-align: left;\">Float64</th><th title = \"Float64\" style = \"text-align: left;\">Float64</th><th title = \"Float64\" style = \"text-align: left;\">Float64</th><th title = \"Float64\" style = \"text-align: left;\">Float64</th><th title = \"Float64\" style = \"text-align: left;\">Float64</th><th title = \"Float64\" style = \"text-align: left;\">Float64</th><th title = \"Float64\" style = \"text-align: left;\">Float64</th><th title = \"Float64\" style = \"text-align: left;\">Float64</th><th title = \"Float64\" style = \"text-align: left;\">Float64</th><th title = \"Float64\" style = \"text-align: left;\">Float64</th></tr></thead><tbody><tr><td class = \"rowNumber\" style = \"font-weight: bold; text-align: right;\">1</td><td style = \"text-align: right;\">3.0</td><td style = \"text-align: right;\">7.0</td><td style = \"text-align: right;\">4.0</td><td style = \"text-align: right;\">26.8226</td><td style = \"text-align: right;\">265.0</td><td style = \"text-align: left;\">No</td><td style = \"text-align: right;\">80.4153</td><td style = \"text-align: right;\">312.494</td><td style = \"text-align: left;\">Good</td><td style = \"text-align: left;\">Good</td><td style = \"text-align: left;\">High_spent_Medium_value_payments</td><td style = \"text-align: right;\">23.0</td><td style = \"text-align: right;\">19114.1</td><td style = \"text-align: right;\">3.0</td><td style = \"text-align: right;\">4.0</td><td style = \"text-align: right;\">3.0</td><td style = \"text-align: right;\">4.0</td><td style = \"text-align: right;\">1824.84</td><td style = \"text-align: right;\">11.27</td><td style = \"text-align: right;\">809.98</td><td style = \"text-align: right;\">49.5749</td></tr><tr><td class = \"rowNumber\" style = \"font-weight: bold; text-align: right;\">2</td><td style = \"text-align: right;\">3.0</td><td style = \"text-align: right;\">7.0</td><td style = \"text-align: right;\">4.0</td><td style = \"text-align: right;\">31.945</td><td style = \"text-align: right;\">265.0</td><td style = \"text-align: left;\">No</td><td style = \"text-align: right;\">118.28</td><td style = \"text-align: right;\">284.629</td><td style = \"text-align: left;\">Good</td><td style = \"text-align: left;\">Good</td><td style = \"text-align: left;\">High_spent_Medium_value_payments</td><td style = \"text-align: right;\">23.0</td><td style = \"text-align: right;\">19114.1</td><td style = \"text-align: right;\">3.0</td><td style = \"text-align: right;\">4.0</td><td style = \"text-align: right;\">3.0</td><td style = \"text-align: right;\">4.0</td><td style = \"text-align: right;\">1824.84</td><td style = \"text-align: right;\">11.27</td><td style = \"text-align: right;\">809.98</td><td style = \"text-align: right;\">49.5749</td></tr><tr><td class = \"rowNumber\" style = \"font-weight: bold; text-align: right;\">3</td><td style = \"text-align: right;\">3.0</td><td style = \"text-align: right;\">7.0</td><td style = \"text-align: right;\">4.0</td><td style = \"text-align: right;\">28.6094</td><td style = \"text-align: right;\">267.0</td><td style = \"text-align: left;\">No</td><td style = \"text-align: right;\">81.6995</td><td style = \"text-align: right;\">331.21</td><td style = \"text-align: left;\">Good</td><td style = \"text-align: left;\">Good</td><td style = \"text-align: left;\">High_spent_Medium_value_payments</td><td style = \"text-align: right;\">23.0</td><td style = \"text-align: right;\">19114.1</td><td style = \"text-align: right;\">3.0</td><td style = \"text-align: right;\">4.0</td><td style = \"text-align: right;\">3.0</td><td style = \"text-align: right;\">4.0</td><td style = \"text-align: right;\">1824.84</td><td style = \"text-align: right;\">11.27</td><td style = \"text-align: right;\">809.98</td><td style = \"text-align: right;\">49.5749</td></tr><tr><td class = \"rowNumber\" style = \"font-weight: bold; text-align: right;\">4</td><td style = \"text-align: right;\">5.0</td><td style = \"text-align: right;\">4.0</td><td style = \"text-align: right;\">4.0</td><td style = \"text-align: right;\">31.3779</td><td style = \"text-align: right;\">268.0</td><td style = \"text-align: left;\">No</td><td style = \"text-align: right;\">199.458</td><td style = \"text-align: right;\">223.451</td><td style = \"text-align: left;\">Good</td><td style = \"text-align: left;\">Good</td><td style = \"text-align: left;\">High_spent_Medium_value_payments</td><td style = \"text-align: right;\">23.0</td><td style = \"text-align: right;\">19114.1</td><td style = \"text-align: right;\">3.0</td><td style = \"text-align: right;\">4.0</td><td style = \"text-align: right;\">3.0</td><td style = \"text-align: right;\">4.0</td><td style = \"text-align: right;\">1824.84</td><td style = \"text-align: right;\">11.27</td><td style = \"text-align: right;\">809.98</td><td style = \"text-align: right;\">49.5749</td></tr><tr><td class = \"rowNumber\" style = \"font-weight: bold; text-align: right;\">5</td><td style = \"text-align: right;\">6.0</td><td style = \"text-align: right;\">4.0</td><td style = \"text-align: right;\">4.0</td><td style = \"text-align: right;\">24.7973</td><td style = \"text-align: right;\">269.0</td><td style = \"text-align: left;\">No</td><td style = \"text-align: right;\">41.4202</td><td style = \"text-align: right;\">341.489</td><td style = \"text-align: left;\">Good</td><td style = \"text-align: left;\">Good</td><td style = \"text-align: left;\">High_spent_Medium_value_payments</td><td style = \"text-align: right;\">23.0</td><td style = \"text-align: right;\">19114.1</td><td style = \"text-align: right;\">3.0</td><td style = \"text-align: right;\">4.0</td><td style = \"text-align: right;\">3.0</td><td style = \"text-align: right;\">4.0</td><td style = \"text-align: right;\">1824.84</td><td style = \"text-align: right;\">11.27</td><td style = \"text-align: right;\">809.98</td><td style = \"text-align: right;\">49.5749</td></tr><tr><td class = \"rowNumber\" style = \"font-weight: bold; text-align: right;\">6</td><td style = \"text-align: right;\">8.0</td><td style = \"text-align: right;\">4.0</td><td style = \"text-align: right;\">4.0</td><td style = \"text-align: right;\">27.2623</td><td style = \"text-align: right;\">270.0</td><td style = \"text-align: left;\">No</td><td style = \"text-align: right;\">62.4302</td><td style = \"text-align: right;\">340.479</td><td style = \"text-align: left;\">Good</td><td style = \"text-align: left;\">Good</td><td style = \"text-align: left;\">High_spent_Medium_value_payments</td><td style = \"text-align: right;\">23.0</td><td style = \"text-align: right;\">19114.1</td><td style = \"text-align: right;\">3.0</td><td style = \"text-align: right;\">4.0</td><td style = \"text-align: right;\">3.0</td><td style = \"text-align: right;\">4.0</td><td style = \"text-align: right;\">1824.84</td><td style = \"text-align: right;\">11.27</td><td style = \"text-align: right;\">809.98</td><td style = \"text-align: right;\">49.5749</td></tr><tr><td class = \"rowNumber\" style = \"font-weight: bold; text-align: right;\">7</td><td style = \"text-align: right;\">3.0</td><td style = \"text-align: right;\">8.0</td><td style = \"text-align: right;\">4.0</td><td style = \"text-align: right;\">22.5376</td><td style = \"text-align: right;\">271.0</td><td style = \"text-align: left;\">No</td><td style = \"text-align: right;\">178.344</td><td style = \"text-align: right;\">244.565</td><td style = \"text-align: left;\">Good</td><td style = \"text-align: left;\">Good</td><td style = \"text-align: left;\">High_spent_Medium_value_payments</td><td style = \"text-align: right;\">23.0</td><td style = \"text-align: right;\">19114.1</td><td style = \"text-align: right;\">3.0</td><td style = \"text-align: right;\">4.0</td><td style = \"text-align: right;\">3.0</td><td style = \"text-align: right;\">4.0</td><td style = \"text-align: right;\">1824.84</td><td style = \"text-align: right;\">11.27</td><td style = \"text-align: right;\">809.98</td><td style = \"text-align: right;\">49.5749</td></tr><tr><td class = \"rowNumber\" style = \"font-weight: bold; text-align: right;\">8</td><td style = \"text-align: right;\">3.0</td><td style = \"text-align: right;\">6.0</td><td style = \"text-align: right;\">4.0</td><td style = \"text-align: right;\">23.9338</td><td style = \"text-align: right;\">271.0</td><td style = \"text-align: left;\">No</td><td style = \"text-align: right;\">24.7852</td><td style = \"text-align: right;\">358.124</td><td style = \"text-align: left;\">Standard</td><td style = \"text-align: left;\">Good</td><td style = \"text-align: left;\">High_spent_Medium_value_payments</td><td style = \"text-align: right;\">23.0</td><td style = \"text-align: right;\">19114.1</td><td style = \"text-align: right;\">3.0</td><td style = \"text-align: right;\">4.0</td><td style = \"text-align: right;\">3.0</td><td style = \"text-align: right;\">4.0</td><td style = \"text-align: right;\">1824.84</td><td style = \"text-align: right;\">11.27</td><td style = \"text-align: right;\">809.98</td><td style = \"text-align: right;\">49.5749</td></tr><tr><td class = \"rowNumber\" style = \"font-weight: bold; text-align: right;\">9</td><td style = \"text-align: right;\">3.0</td><td style = \"text-align: right;\">4.0</td><td style = \"text-align: right;\">2.0</td><td style = \"text-align: right;\">24.464</td><td style = \"text-align: right;\">319.0</td><td style = \"text-align: left;\">No</td><td style = \"text-align: right;\">104.292</td><td style = \"text-align: right;\">470.691</td><td style = \"text-align: left;\">Standard</td><td style = \"text-align: left;\">Good</td><td style = \"text-align: left;\">High_spent_Large_value_payments</td><td style = \"text-align: right;\">28.0</td><td style = \"text-align: right;\">34847.8</td><td style = \"text-align: right;\">2.0</td><td style = \"text-align: right;\">4.0</td><td style = \"text-align: right;\">6.0</td><td style = \"text-align: right;\">1.0</td><td style = \"text-align: right;\">3037.99</td><td style = \"text-align: right;\">5.42</td><td style = \"text-align: right;\">605.03</td><td style = \"text-align: right;\">18.8162</td></tr><tr><td class = \"rowNumber\" style = \"font-weight: bold; text-align: right;\">10</td><td style = \"text-align: right;\">7.0</td><td style = \"text-align: right;\">1.0</td><td style = \"text-align: right;\">2.0</td><td style = \"text-align: right;\">38.5508</td><td style = \"text-align: right;\">320.0</td><td style = \"text-align: left;\">No</td><td style = \"text-align: right;\">40.3912</td><td style = \"text-align: right;\">484.591</td><td style = \"text-align: left;\">Good</td><td style = \"text-align: left;\">Good</td><td style = \"text-align: left;\">High_spent_Large_value_payments</td><td style = \"text-align: right;\">28.0</td><td style = \"text-align: right;\">34847.8</td><td style = \"text-align: right;\">2.0</td><td style = \"text-align: right;\">4.0</td><td style = \"text-align: right;\">6.0</td><td style = \"text-align: right;\">1.0</td><td style = \"text-align: right;\">3037.99</td><td style = \"text-align: right;\">5.42</td><td style = \"text-align: right;\">605.03</td><td style = \"text-align: right;\">18.8162</td></tr><tr><td class = \"rowNumber\" style = \"font-weight: bold; text-align: right;\">11</td><td style = \"text-align: right;\">3.0</td><td style = \"text-align: right;\">1.0</td><td style = \"text-align: right;\">2.0</td><td style = \"text-align: right;\">33.225</td><td style = \"text-align: right;\">321.0</td><td style = \"text-align: left;\">No</td><td style = \"text-align: right;\">58.516</td><td style = \"text-align: right;\">466.466</td><td style = \"text-align: left;\">Standard</td><td style = \"text-align: left;\">Good</td><td style = \"text-align: left;\">High_spent_Large_value_payments</td><td style = \"text-align: right;\">28.0</td><td style = \"text-align: right;\">34847.8</td><td style = \"text-align: right;\">2.0</td><td style = \"text-align: right;\">4.0</td><td style = \"text-align: right;\">6.0</td><td style = \"text-align: right;\">1.0</td><td style = \"text-align: right;\">3037.99</td><td style = \"text-align: right;\">5.42</td><td style = \"text-align: right;\">605.03</td><td style = \"text-align: right;\">18.8162</td></tr><tr><td class = \"rowNumber\" style = \"font-weight: bold; text-align: right;\">12</td><td style = \"text-align: right;\">3.0</td><td style = \"text-align: right;\">3.0</td><td style = \"text-align: right;\">2.0</td><td style = \"text-align: right;\">39.1827</td><td style = \"text-align: right;\">322.0</td><td style = \"text-align: left;\">No</td><td style = \"text-align: right;\">99.3062</td><td style = \"text-align: right;\">465.676</td><td style = \"text-align: left;\">Good</td><td style = \"text-align: left;\">Good</td><td style = \"text-align: left;\">High_spent_Large_value_payments</td><td style = \"text-align: right;\">28.0</td><td style = \"text-align: right;\">34847.8</td><td style = \"text-align: right;\">2.0</td><td style = \"text-align: right;\">4.0</td><td style = \"text-align: right;\">6.0</td><td style = \"text-align: right;\">1.0</td><td style = \"text-align: right;\">3037.99</td><td style = \"text-align: right;\">5.42</td><td style = \"text-align: right;\">605.03</td><td style = \"text-align: right;\">18.8162</td></tr><tr><td class = \"rowNumber\" style = \"font-weight: bold; text-align: right;\">13</td><td style = \"text-align: right;\">3.0</td><td style = \"text-align: right;\">1.0</td><td style = \"text-align: right;\">2.0</td><td style = \"text-align: right;\">34.9779</td><td style = \"text-align: right;\">323.0</td><td style = \"text-align: left;\">No</td><td style = \"text-align: right;\">130.115</td><td style = \"text-align: right;\">444.867</td><td style = \"text-align: left;\">Good</td><td style = \"text-align: left;\">Good</td><td style = \"text-align: left;\">High_spent_Large_value_payments</td><td style = \"text-align: right;\">28.0</td><td style = \"text-align: right;\">34847.8</td><td style = \"text-align: right;\">2.0</td><td style = \"text-align: right;\">4.0</td><td style = \"text-align: right;\">6.0</td><td style = \"text-align: right;\">1.0</td><td style = \"text-align: right;\">3037.99</td><td style = \"text-align: right;\">5.42</td><td style = \"text-align: right;\">605.03</td><td style = \"text-align: right;\">18.8162</td></tr><tr><td style = \"text-align: right;\">&vellip;</td><td style = \"text-align: right;\">&vellip;</td><td style = \"text-align: right;\">&vellip;</td><td style = \"text-align: right;\">&vellip;</td><td style = \"text-align: right;\">&vellip;</td><td style = \"text-align: right;\">&vellip;</td><td style = \"text-align: right;\">&vellip;</td><td style = \"text-align: right;\">&vellip;</td><td style = \"text-align: right;\">&vellip;</td><td style = \"text-align: right;\">&vellip;</td><td style = \"text-align: right;\">&vellip;</td><td style = \"text-align: right;\">&vellip;</td><td style = \"text-align: right;\">&vellip;</td><td style = \"text-align: right;\">&vellip;</td><td style = \"text-align: right;\">&vellip;</td><td style = \"text-align: right;\">&vellip;</td><td style = \"text-align: right;\">&vellip;</td><td style = \"text-align: right;\">&vellip;</td><td style = \"text-align: right;\">&vellip;</td><td style = \"text-align: right;\">&vellip;</td><td style = \"text-align: right;\">&vellip;</td><td style = \"text-align: right;\">&vellip;</td></tr><tr><td class = \"rowNumber\" style = \"font-weight: bold; text-align: right;\">99949</td><td style = \"text-align: right;\">33.0</td><td style = \"text-align: right;\">25.0</td><td style = \"text-align: right;\">9.0</td><td style = \"text-align: right;\">28.5083</td><td style = \"text-align: right;\">72.0</td><td style = \"text-align: left;\">Yes</td><td style = \"text-align: right;\">213.978</td><td style = \"text-align: right;\">208.048</td><td style = \"text-align: left;\">Standard</td><td style = \"text-align: left;\">Bad</td><td style = \"text-align: left;\">High_spent_Large_value_payments</td><td style = \"text-align: right;\">28.0</td><td style = \"text-align: right;\">20002.9</td><td style = \"text-align: right;\">10.0</td><td style = \"text-align: right;\">8.0</td><td style = \"text-align: right;\">29.0</td><td style = \"text-align: right;\">5.0</td><td style = \"text-align: right;\">1929.91</td><td style = \"text-align: right;\">18.31</td><td style = \"text-align: right;\">3571.7</td><td style = \"text-align: right;\">60.9648</td></tr><tr><td class = \"rowNumber\" style = \"font-weight: bold; text-align: right;\">99950</td><td style = \"text-align: right;\">33.0</td><td style = \"text-align: right;\">25.0</td><td style = \"text-align: right;\">9.0</td><td style = \"text-align: right;\">33.36</td><td style = \"text-align: right;\">73.0</td><td style = \"text-align: left;\">Yes</td><td style = \"text-align: right;\">74.3666</td><td style = \"text-align: right;\">307.659</td><td style = \"text-align: left;\">Standard</td><td style = \"text-align: left;\">Bad</td><td style = \"text-align: left;\">High_spent_Large_value_payments</td><td style = \"text-align: right;\">28.0</td><td style = \"text-align: right;\">20002.9</td><td style = \"text-align: right;\">10.0</td><td style = \"text-align: right;\">8.0</td><td style = \"text-align: right;\">29.0</td><td style = \"text-align: right;\">5.0</td><td style = \"text-align: right;\">1929.91</td><td style = \"text-align: right;\">18.31</td><td style = \"text-align: right;\">3571.7</td><td style = \"text-align: right;\">60.9648</td></tr><tr><td class = \"rowNumber\" style = \"font-weight: bold; text-align: right;\">99951</td><td style = \"text-align: right;\">33.0</td><td style = \"text-align: right;\">26.0</td><td style = \"text-align: right;\">9.0</td><td style = \"text-align: right;\">25.1235</td><td style = \"text-align: right;\">73.0</td><td style = \"text-align: left;\">Yes</td><td style = \"text-align: right;\">173.276</td><td style = \"text-align: right;\">228.75</td><td style = \"text-align: left;\">Standard</td><td style = \"text-align: left;\">Bad</td><td style = \"text-align: left;\">High_spent_Large_value_payments</td><td style = \"text-align: right;\">28.0</td><td style = \"text-align: right;\">20002.9</td><td style = \"text-align: right;\">10.0</td><td style = \"text-align: right;\">8.0</td><td style = \"text-align: right;\">29.0</td><td style = \"text-align: right;\">5.0</td><td style = \"text-align: right;\">1929.91</td><td style = \"text-align: right;\">18.31</td><td style = \"text-align: right;\">3571.7</td><td style = \"text-align: right;\">60.9648</td></tr><tr><td class = \"rowNumber\" style = \"font-weight: bold; text-align: right;\">99952</td><td style = \"text-align: right;\">33.0</td><td style = \"text-align: right;\">25.0</td><td style = \"text-align: right;\">9.0</td><td style = \"text-align: right;\">37.1408</td><td style = \"text-align: right;\">75.0</td><td style = \"text-align: left;\">Yes</td><td style = \"text-align: right;\">34.6629</td><td style = \"text-align: right;\">337.363</td><td style = \"text-align: left;\">Standard</td><td style = \"text-align: left;\">Bad</td><td style = \"text-align: left;\">High_spent_Large_value_payments</td><td style = \"text-align: right;\">28.0</td><td style = \"text-align: right;\">20002.9</td><td style = \"text-align: right;\">10.0</td><td style = \"text-align: right;\">8.0</td><td style = \"text-align: right;\">29.0</td><td style = \"text-align: right;\">5.0</td><td style = \"text-align: right;\">1929.91</td><td style = \"text-align: right;\">18.31</td><td style = \"text-align: right;\">3571.7</td><td style = \"text-align: right;\">60.9648</td></tr><tr><td class = \"rowNumber\" style = \"font-weight: bold; text-align: right;\">99953</td><td style = \"text-align: right;\">23.0</td><td style = \"text-align: right;\">6.0</td><td style = \"text-align: right;\">3.0</td><td style = \"text-align: right;\">32.9913</td><td style = \"text-align: right;\">375.0</td><td style = \"text-align: left;\">No</td><td style = \"text-align: right;\">401.196</td><td style = \"text-align: right;\">189.641</td><td style = \"text-align: left;\">Poor</td><td style = \"text-align: left;\">Good</td><td style = \"text-align: left;\">High_spent_Medium_value_payments</td><td style = \"text-align: right;\">25.0</td><td style = \"text-align: right;\">39629.0</td><td style = \"text-align: right;\">4.0</td><td style = \"text-align: right;\">6.0</td><td style = \"text-align: right;\">7.0</td><td style = \"text-align: right;\">2.0</td><td style = \"text-align: right;\">3359.42</td><td style = \"text-align: right;\">11.5</td><td style = \"text-align: right;\">502.38</td><td style = \"text-align: right;\">35.104</td></tr><tr><td class = \"rowNumber\" style = \"font-weight: bold; text-align: right;\">99954</td><td style = \"text-align: right;\">23.0</td><td style = \"text-align: right;\">6.0</td><td style = \"text-align: right;\">3.0</td><td style = \"text-align: right;\">29.1354</td><td style = \"text-align: right;\">376.0</td><td style = \"text-align: left;\">No</td><td style = \"text-align: right;\">180.733</td><td style = \"text-align: right;\">400.104</td><td style = \"text-align: left;\">Standard</td><td style = \"text-align: left;\">Good</td><td style = \"text-align: left;\">High_spent_Medium_value_payments</td><td style = \"text-align: right;\">25.0</td><td style = \"text-align: right;\">39629.0</td><td style = \"text-align: right;\">4.0</td><td style = \"text-align: right;\">6.0</td><td style = \"text-align: right;\">7.0</td><td style = \"text-align: right;\">2.0</td><td style = \"text-align: right;\">3359.42</td><td style = \"text-align: right;\">11.5</td><td style = \"text-align: right;\">502.38</td><td style = \"text-align: right;\">35.104</td></tr><tr><td class = \"rowNumber\" style = \"font-weight: bold; text-align: right;\">99955</td><td style = \"text-align: right;\">20.0</td><td style = \"text-align: right;\">6.0</td><td style = \"text-align: right;\">3.0</td><td style = \"text-align: right;\">39.3236</td><td style = \"text-align: right;\">377.0</td><td style = \"text-align: left;\">No</td><td style = \"text-align: right;\">140.581</td><td style = \"text-align: right;\">410.256</td><td style = \"text-align: left;\">Poor</td><td style = \"text-align: left;\">Good</td><td style = \"text-align: left;\">High_spent_Medium_value_payments</td><td style = \"text-align: right;\">25.0</td><td style = \"text-align: right;\">39629.0</td><td style = \"text-align: right;\">4.0</td><td style = \"text-align: right;\">6.0</td><td style = \"text-align: right;\">7.0</td><td style = \"text-align: right;\">2.0</td><td style = \"text-align: right;\">3359.42</td><td style = \"text-align: right;\">11.5</td><td style = \"text-align: right;\">502.38</td><td style = \"text-align: right;\">35.104</td></tr><tr><td class = \"rowNumber\" style = \"font-weight: bold; text-align: right;\">99956</td><td style = \"text-align: right;\">23.0</td><td style = \"text-align: right;\">7.0</td><td style = \"text-align: right;\">3.0</td><td style = \"text-align: right;\">34.6636</td><td style = \"text-align: right;\">378.0</td><td style = \"text-align: left;\">No</td><td style = \"text-align: right;\">60.9713</td><td style = \"text-align: right;\">479.866</td><td style = \"text-align: left;\">Poor</td><td style = \"text-align: left;\">Good</td><td style = \"text-align: left;\">High_spent_Medium_value_payments</td><td style = \"text-align: right;\">25.0</td><td style = \"text-align: right;\">39629.0</td><td style = \"text-align: right;\">4.0</td><td style = \"text-align: right;\">6.0</td><td style = \"text-align: right;\">7.0</td><td style = \"text-align: right;\">2.0</td><td style = \"text-align: right;\">3359.42</td><td style = \"text-align: right;\">11.5</td><td style = \"text-align: right;\">502.38</td><td style = \"text-align: right;\">35.104</td></tr><tr><td class = \"rowNumber\" style = \"font-weight: bold; text-align: right;\">99957</td><td style = \"text-align: right;\">18.0</td><td style = \"text-align: right;\">7.0</td><td style = \"text-align: right;\">3.0</td><td style = \"text-align: right;\">40.5656</td><td style = \"text-align: right;\">379.0</td><td style = \"text-align: left;\">No</td><td style = \"text-align: right;\">54.186</td><td style = \"text-align: right;\">496.652</td><td style = \"text-align: left;\">Poor</td><td style = \"text-align: left;\">Good</td><td style = \"text-align: left;\">High_spent_Medium_value_payments</td><td style = \"text-align: right;\">25.0</td><td style = \"text-align: right;\">39629.0</td><td style = \"text-align: right;\">4.0</td><td style = \"text-align: right;\">6.0</td><td style = \"text-align: right;\">7.0</td><td style = \"text-align: right;\">2.0</td><td style = \"text-align: right;\">3359.42</td><td style = \"text-align: right;\">11.5</td><td style = \"text-align: right;\">502.38</td><td style = \"text-align: right;\">35.104</td></tr><tr><td class = \"rowNumber\" style = \"font-weight: bold; text-align: right;\">99958</td><td style = \"text-align: right;\">27.0</td><td style = \"text-align: right;\">6.0</td><td style = \"text-align: right;\">3.0</td><td style = \"text-align: right;\">41.2555</td><td style = \"text-align: right;\">380.0</td><td style = \"text-align: left;\">No</td><td style = \"text-align: right;\">24.0285</td><td style = \"text-align: right;\">516.809</td><td style = \"text-align: left;\">Poor</td><td style = \"text-align: left;\">Good</td><td style = \"text-align: left;\">High_spent_Medium_value_payments</td><td style = \"text-align: right;\">25.0</td><td style = \"text-align: right;\">39629.0</td><td style = \"text-align: right;\">4.0</td><td style = \"text-align: right;\">6.0</td><td style = \"text-align: right;\">7.0</td><td style = \"text-align: right;\">2.0</td><td style = \"text-align: right;\">3359.42</td><td style = \"text-align: right;\">11.5</td><td style = \"text-align: right;\">502.38</td><td style = \"text-align: right;\">35.104</td></tr><tr><td class = \"rowNumber\" style = \"font-weight: bold; text-align: right;\">99959</td><td style = \"text-align: right;\">20.0</td><td style = \"text-align: right;\">6.0</td><td style = \"text-align: right;\">3.0</td><td style = \"text-align: right;\">33.6382</td><td style = \"text-align: right;\">381.0</td><td style = \"text-align: left;\">No</td><td style = \"text-align: right;\">251.673</td><td style = \"text-align: right;\">319.165</td><td style = \"text-align: left;\">Standard</td><td style = \"text-align: left;\">Good</td><td style = \"text-align: left;\">High_spent_Medium_value_payments</td><td style = \"text-align: right;\">25.0</td><td style = \"text-align: right;\">39629.0</td><td style = \"text-align: right;\">4.0</td><td style = \"text-align: right;\">6.0</td><td style = \"text-align: right;\">7.0</td><td style = \"text-align: right;\">2.0</td><td style = \"text-align: right;\">3359.42</td><td style = \"text-align: right;\">11.5</td><td style = \"text-align: right;\">502.38</td><td style = \"text-align: right;\">35.104</td></tr><tr><td class = \"rowNumber\" style = \"font-weight: bold; text-align: right;\">99960</td><td style = \"text-align: right;\">18.0</td><td style = \"text-align: right;\">6.0</td><td style = \"text-align: right;\">3.0</td><td style = \"text-align: right;\">34.1925</td><td style = \"text-align: right;\">382.0</td><td style = \"text-align: left;\">No</td><td style = \"text-align: right;\">167.164</td><td style = \"text-align: right;\">393.674</td><td style = \"text-align: left;\">Poor</td><td style = \"text-align: left;\">Good</td><td style = \"text-align: left;\">High_spent_Medium_value_payments</td><td style = \"text-align: right;\">25.0</td><td style = \"text-align: right;\">39629.0</td><td style = \"text-align: right;\">4.0</td><td style = \"text-align: right;\">6.0</td><td style = \"text-align: right;\">7.0</td><td style = \"text-align: right;\">2.0</td><td style = \"text-align: right;\">3359.42</td><td style = \"text-align: right;\">11.5</td><td style = \"text-align: right;\">502.38</td><td style = \"text-align: right;\">35.104</td></tr></tbody></table></div>"
      ],
      "text/latex": [
       "\\begin{tabular}{r|ccccc}\n",
       "\t& Delay\\_from\\_due\\_date & Num\\_of\\_Delayed\\_Payment & Num\\_Credit\\_Inquiries & Credit\\_Utilization\\_Ratio & \\\\\n",
       "\t\\hline\n",
       "\t& Float64 & Float64 & Float64 & Float64 & \\\\\n",
       "\t\\hline\n",
       "\t1 & 3.0 & 7.0 & 4.0 & 26.8226 & $\\dots$ \\\\\n",
       "\t2 & 3.0 & 7.0 & 4.0 & 31.945 & $\\dots$ \\\\\n",
       "\t3 & 3.0 & 7.0 & 4.0 & 28.6094 & $\\dots$ \\\\\n",
       "\t4 & 5.0 & 4.0 & 4.0 & 31.3779 & $\\dots$ \\\\\n",
       "\t5 & 6.0 & 4.0 & 4.0 & 24.7973 & $\\dots$ \\\\\n",
       "\t6 & 8.0 & 4.0 & 4.0 & 27.2623 & $\\dots$ \\\\\n",
       "\t7 & 3.0 & 8.0 & 4.0 & 22.5376 & $\\dots$ \\\\\n",
       "\t8 & 3.0 & 6.0 & 4.0 & 23.9338 & $\\dots$ \\\\\n",
       "\t9 & 3.0 & 4.0 & 2.0 & 24.464 & $\\dots$ \\\\\n",
       "\t10 & 7.0 & 1.0 & 2.0 & 38.5508 & $\\dots$ \\\\\n",
       "\t11 & 3.0 & 1.0 & 2.0 & 33.225 & $\\dots$ \\\\\n",
       "\t12 & 3.0 & 3.0 & 2.0 & 39.1827 & $\\dots$ \\\\\n",
       "\t13 & 3.0 & 1.0 & 2.0 & 34.9779 & $\\dots$ \\\\\n",
       "\t14 & 3.0 & 0.0 & 2.0 & 33.381 & $\\dots$ \\\\\n",
       "\t15 & 3.0 & 4.0 & 2.0 & 31.1317 & $\\dots$ \\\\\n",
       "\t16 & 3.0 & 4.0 & 2.0 & 32.9339 & $\\dots$ \\\\\n",
       "\t17 & 5.0 & 8.0 & 3.0 & 28.6167 & $\\dots$ \\\\\n",
       "\t18 & 13.0 & 6.0 & 3.0 & 41.7026 & $\\dots$ \\\\\n",
       "\t19 & 8.0 & 7.0 & 3.0 & 26.5198 & $\\dots$ \\\\\n",
       "\t20 & 8.0 & 5.0 & 3.0 & 39.5016 & $\\dots$ \\\\\n",
       "\t21 & 10.0 & 5.0 & 3.0 & 31.3761 & $\\dots$ \\\\\n",
       "\t22 & 8.0 & 6.0 & 3.0 & 39.784 & $\\dots$ \\\\\n",
       "\t23 & 8.0 & 6.0 & 3.0 & 38.0686 & $\\dots$ \\\\\n",
       "\t24 & 8.0 & 6.0 & 3.0 & 38.3748 & $\\dots$ \\\\\n",
       "\t$\\dots$ & $\\dots$ & $\\dots$ & $\\dots$ & $\\dots$ &  \\\\\n",
       "\\end{tabular}\n"
      ],
      "text/plain": [
       "\u001b[1m99960×21 DataFrame\u001b[0m\n",
       "\u001b[1m   Row \u001b[0m│\u001b[1m Delay_from_due_date \u001b[0m\u001b[1m Num_of_Delayed_Payment \u001b[0m\u001b[1m Num_Credit_Inquiries \u001b[0m\u001b[1m Cr\u001b[0m ⋯\n",
       "       │\u001b[90m Float64             \u001b[0m\u001b[90m Float64                \u001b[0m\u001b[90m Float64              \u001b[0m\u001b[90m Fl\u001b[0m ⋯\n",
       "───────┼────────────────────────────────────────────────────────────────────────\n",
       "     1 │                 3.0                     7.0                   4.0     ⋯\n",
       "     2 │                 3.0                     7.0                   4.0\n",
       "     3 │                 3.0                     7.0                   4.0\n",
       "     4 │                 5.0                     4.0                   4.0\n",
       "     5 │                 6.0                     4.0                   4.0     ⋯\n",
       "     6 │                 8.0                     4.0                   4.0\n",
       "     7 │                 3.0                     8.0                   4.0\n",
       "     8 │                 3.0                     6.0                   4.0\n",
       "   ⋮   │          ⋮                     ⋮                      ⋮               ⋱\n",
       " 99954 │                23.0                     6.0                   3.0     ⋯\n",
       " 99955 │                20.0                     6.0                   3.0\n",
       " 99956 │                23.0                     7.0                   3.0\n",
       " 99957 │                18.0                     7.0                   3.0\n",
       " 99958 │                27.0                     6.0                   3.0     ⋯\n",
       " 99959 │                20.0                     6.0                   3.0\n",
       " 99960 │                18.0                     6.0                   3.0\n",
       "\u001b[36m                                               18 columns and 99945 rows omitted\u001b[0m"
      ]
     },
     "metadata": {},
     "output_type": "display_data"
    }
   ],
   "source": [
    "raw_data = CSV.read(joinpath(_PATH_TO_DATA, \"credit_score_dataset.csv\"), DataFrame)"
   ]
  },
  {
   "cell_type": "code",
   "execution_count": 3,
   "id": "a0c3a529",
   "metadata": {},
   "outputs": [
    {
     "data": {
      "text/plain": [
       "21-element Vector{String}:\n",
       " \"Delay_from_due_date\"\n",
       " \"Num_of_Delayed_Payment\"\n",
       " \"Num_Credit_Inquiries\"\n",
       " \"Credit_Utilization_Ratio\"\n",
       " \"Credit_History_Age\"\n",
       " \"Payment_of_Min_Amount\"\n",
       " \"Amount_invested_monthly\"\n",
       " \"Monthly_Balance\"\n",
       " \"Credit_Score\"\n",
       " \"Credit_Mix\"\n",
       " ⋮\n",
       " \"Annual_Income\"\n",
       " \"Num_Bank_Accounts\"\n",
       " \"Num_Credit_Card\"\n",
       " \"Interest_Rate\"\n",
       " \"Num_of_Loan\"\n",
       " \"Monthly_Inhand_Salary\"\n",
       " \"Changed_Credit_Limit\"\n",
       " \"Outstanding_Debt\"\n",
       " \"Total_EMI_per_month\""
      ]
     },
     "metadata": {},
     "output_type": "display_data"
    }
   ],
   "source": [
    "names(raw_data)"
   ]
  },
  {
   "cell_type": "markdown",
   "id": "734d62d3",
   "metadata": {},
   "source": [
    "Next, let's do some data wrangling. In particular, we will convert the categorical vriables to numerical variables:\n",
    "* The `Payment_of_Min_Amount` variable is a categorical variable with levels: `No`, abd `Yes`. Let's convert it to a numerical variable with levels: `No` $\\rightarrow$ `-1` and `Yes` $\\rightarrow$ `1`.\n",
    "* The `Credit_Score` variable is a categorical variable with levels: `Poor`, `Standard`, and `Good`. Let's convert it to a numerical variable with levels: `Poor` $\\rightarrow$ `1`, `Standard` $\\rightarrow$ `2`, and `Good` $\\rightarrow$ `3`.\n",
    "* The `Credit_Mix` variable is a categorical variable with levels: `Bad`, `Standard`, and `Good`. Let's convert it to a numerical variable with levels: `Bad` $\\rightarrow$ `1`, `Standard` $\\rightarrow$ `2`, and `Good` $\\rightarrow$ `3`.\n",
    "The `Payment_Behaviour` variable is a categorical variable with multiple levels. Let's convert these to a numerical variable with levels: `Low_spent_Small_value_payments` $\\rightarrow$ `1`, `Low_spent_Medium_value_payments` $\\rightarrow$ `2`, `Low_spent_Large_value_payments` $\\rightarrow$ `3`, `High_spent_Small_value_payments` $\\rightarrow$ `4`, `High_spent_Medium_value_payments` $\\rightarrow$ `5`, and `High_spent_Large_value_payments` $\\rightarrow$ `6`."
   ]
  },
  {
   "cell_type": "code",
   "execution_count": 4,
   "id": "82d18b9c",
   "metadata": {},
   "outputs": [
    {
     "data": {
      "text/plain": [
       "Set{String} with 3 elements:\n",
       "  \"Good\"\n",
       "  \"Bad\"\n",
       "  \"Standard\""
      ]
     },
     "metadata": {},
     "output_type": "display_data"
    }
   ],
   "source": [
    "let\n",
    "    tmp = Set{String}()\n",
    "    for record in eachrow(raw_data)\n",
    "        push!(tmp, record[:Credit_Mix])\n",
    "    end\n",
    "    tmp\n",
    "end"
   ]
  },
  {
   "cell_type": "code",
   "execution_count": 5,
   "id": "ec015540",
   "metadata": {},
   "outputs": [
    {
     "data": {
      "text/html": [
       "<div><div style = \"float: left;\"><span>99960×21 DataFrame</span></div><div style = \"float: right;\"><span style = \"font-style: italic;\">99935 rows omitted</span></div><div style = \"clear: both;\"></div></div><div class = \"data-frame\" style = \"overflow-x: scroll;\"><table class = \"data-frame\" style = \"margin-bottom: 6px;\"><thead><tr class = \"header\"><th class = \"rowNumber\" style = \"font-weight: bold; text-align: right;\">Row</th><th style = \"text-align: left;\">Delay_from_due_date</th><th style = \"text-align: left;\">Num_of_Delayed_Payment</th><th style = \"text-align: left;\">Num_Credit_Inquiries</th><th style = \"text-align: left;\">Credit_Utilization_Ratio</th><th style = \"text-align: left;\">Credit_History_Age</th><th style = \"text-align: left;\">Payment_of_Min_Amount</th><th style = \"text-align: left;\">Amount_invested_monthly</th><th style = \"text-align: left;\">Monthly_Balance</th><th style = \"text-align: left;\">Credit_Score</th><th style = \"text-align: left;\">Credit_Mix</th><th style = \"text-align: left;\">Payment_Behaviour</th><th style = \"text-align: left;\">Age</th><th style = \"text-align: left;\">Annual_Income</th><th style = \"text-align: left;\">Num_Bank_Accounts</th><th style = \"text-align: left;\">Num_Credit_Card</th><th style = \"text-align: left;\">Interest_Rate</th><th style = \"text-align: left;\">Num_of_Loan</th><th style = \"text-align: left;\">Monthly_Inhand_Salary</th><th style = \"text-align: left;\">Changed_Credit_Limit</th><th style = \"text-align: left;\">Outstanding_Debt</th><th style = \"text-align: left;\">Total_EMI_per_month</th></tr><tr class = \"subheader headerLastRow\"><th class = \"rowNumber\" style = \"font-weight: bold; text-align: right;\"></th><th title = \"Float64\" style = \"text-align: left;\">Float64</th><th title = \"Float64\" style = \"text-align: left;\">Float64</th><th title = \"Float64\" style = \"text-align: left;\">Float64</th><th title = \"Float64\" style = \"text-align: left;\">Float64</th><th title = \"Float64\" style = \"text-align: left;\">Float64</th><th title = \"Int64\" style = \"text-align: left;\">Int64</th><th title = \"Float64\" style = \"text-align: left;\">Float64</th><th title = \"Float64\" style = \"text-align: left;\">Float64</th><th title = \"Int64\" style = \"text-align: left;\">Int64</th><th title = \"Int64\" style = \"text-align: left;\">Int64</th><th title = \"Int64\" style = \"text-align: left;\">Int64</th><th title = \"Float64\" style = \"text-align: left;\">Float64</th><th title = \"Float64\" style = \"text-align: left;\">Float64</th><th title = \"Float64\" style = \"text-align: left;\">Float64</th><th title = \"Float64\" style = \"text-align: left;\">Float64</th><th title = \"Float64\" style = \"text-align: left;\">Float64</th><th title = \"Float64\" style = \"text-align: left;\">Float64</th><th title = \"Float64\" style = \"text-align: left;\">Float64</th><th title = \"Float64\" style = \"text-align: left;\">Float64</th><th title = \"Float64\" style = \"text-align: left;\">Float64</th><th title = \"Float64\" style = \"text-align: left;\">Float64</th></tr></thead><tbody><tr><td class = \"rowNumber\" style = \"font-weight: bold; text-align: right;\">1</td><td style = \"text-align: right;\">3.0</td><td style = \"text-align: right;\">7.0</td><td style = \"text-align: right;\">4.0</td><td style = \"text-align: right;\">26.8226</td><td style = \"text-align: right;\">265.0</td><td style = \"text-align: right;\">-1</td><td style = \"text-align: right;\">80.4153</td><td style = \"text-align: right;\">312.494</td><td style = \"text-align: right;\">3</td><td style = \"text-align: right;\">3</td><td style = \"text-align: right;\">5</td><td style = \"text-align: right;\">23.0</td><td style = \"text-align: right;\">19114.1</td><td style = \"text-align: right;\">3.0</td><td style = \"text-align: right;\">4.0</td><td style = \"text-align: right;\">3.0</td><td style = \"text-align: right;\">4.0</td><td style = \"text-align: right;\">1824.84</td><td style = \"text-align: right;\">11.27</td><td style = \"text-align: right;\">809.98</td><td style = \"text-align: right;\">49.5749</td></tr><tr><td class = \"rowNumber\" style = \"font-weight: bold; text-align: right;\">2</td><td style = \"text-align: right;\">3.0</td><td style = \"text-align: right;\">7.0</td><td style = \"text-align: right;\">4.0</td><td style = \"text-align: right;\">31.945</td><td style = \"text-align: right;\">265.0</td><td style = \"text-align: right;\">-1</td><td style = \"text-align: right;\">118.28</td><td style = \"text-align: right;\">284.629</td><td style = \"text-align: right;\">3</td><td style = \"text-align: right;\">3</td><td style = \"text-align: right;\">5</td><td style = \"text-align: right;\">23.0</td><td style = \"text-align: right;\">19114.1</td><td style = \"text-align: right;\">3.0</td><td style = \"text-align: right;\">4.0</td><td style = \"text-align: right;\">3.0</td><td style = \"text-align: right;\">4.0</td><td style = \"text-align: right;\">1824.84</td><td style = \"text-align: right;\">11.27</td><td style = \"text-align: right;\">809.98</td><td style = \"text-align: right;\">49.5749</td></tr><tr><td class = \"rowNumber\" style = \"font-weight: bold; text-align: right;\">3</td><td style = \"text-align: right;\">3.0</td><td style = \"text-align: right;\">7.0</td><td style = \"text-align: right;\">4.0</td><td style = \"text-align: right;\">28.6094</td><td style = \"text-align: right;\">267.0</td><td style = \"text-align: right;\">-1</td><td style = \"text-align: right;\">81.6995</td><td style = \"text-align: right;\">331.21</td><td style = \"text-align: right;\">3</td><td style = \"text-align: right;\">3</td><td style = \"text-align: right;\">5</td><td style = \"text-align: right;\">23.0</td><td style = \"text-align: right;\">19114.1</td><td style = \"text-align: right;\">3.0</td><td style = \"text-align: right;\">4.0</td><td style = \"text-align: right;\">3.0</td><td style = \"text-align: right;\">4.0</td><td style = \"text-align: right;\">1824.84</td><td style = \"text-align: right;\">11.27</td><td style = \"text-align: right;\">809.98</td><td style = \"text-align: right;\">49.5749</td></tr><tr><td class = \"rowNumber\" style = \"font-weight: bold; text-align: right;\">4</td><td style = \"text-align: right;\">5.0</td><td style = \"text-align: right;\">4.0</td><td style = \"text-align: right;\">4.0</td><td style = \"text-align: right;\">31.3779</td><td style = \"text-align: right;\">268.0</td><td style = \"text-align: right;\">-1</td><td style = \"text-align: right;\">199.458</td><td style = \"text-align: right;\">223.451</td><td style = \"text-align: right;\">3</td><td style = \"text-align: right;\">3</td><td style = \"text-align: right;\">5</td><td style = \"text-align: right;\">23.0</td><td style = \"text-align: right;\">19114.1</td><td style = \"text-align: right;\">3.0</td><td style = \"text-align: right;\">4.0</td><td style = \"text-align: right;\">3.0</td><td style = \"text-align: right;\">4.0</td><td style = \"text-align: right;\">1824.84</td><td style = \"text-align: right;\">11.27</td><td style = \"text-align: right;\">809.98</td><td style = \"text-align: right;\">49.5749</td></tr><tr><td class = \"rowNumber\" style = \"font-weight: bold; text-align: right;\">5</td><td style = \"text-align: right;\">6.0</td><td style = \"text-align: right;\">4.0</td><td style = \"text-align: right;\">4.0</td><td style = \"text-align: right;\">24.7973</td><td style = \"text-align: right;\">269.0</td><td style = \"text-align: right;\">-1</td><td style = \"text-align: right;\">41.4202</td><td style = \"text-align: right;\">341.489</td><td style = \"text-align: right;\">3</td><td style = \"text-align: right;\">3</td><td style = \"text-align: right;\">5</td><td style = \"text-align: right;\">23.0</td><td style = \"text-align: right;\">19114.1</td><td style = \"text-align: right;\">3.0</td><td style = \"text-align: right;\">4.0</td><td style = \"text-align: right;\">3.0</td><td style = \"text-align: right;\">4.0</td><td style = \"text-align: right;\">1824.84</td><td style = \"text-align: right;\">11.27</td><td style = \"text-align: right;\">809.98</td><td style = \"text-align: right;\">49.5749</td></tr><tr><td class = \"rowNumber\" style = \"font-weight: bold; text-align: right;\">6</td><td style = \"text-align: right;\">8.0</td><td style = \"text-align: right;\">4.0</td><td style = \"text-align: right;\">4.0</td><td style = \"text-align: right;\">27.2623</td><td style = \"text-align: right;\">270.0</td><td style = \"text-align: right;\">-1</td><td style = \"text-align: right;\">62.4302</td><td style = \"text-align: right;\">340.479</td><td style = \"text-align: right;\">3</td><td style = \"text-align: right;\">3</td><td style = \"text-align: right;\">5</td><td style = \"text-align: right;\">23.0</td><td style = \"text-align: right;\">19114.1</td><td style = \"text-align: right;\">3.0</td><td style = \"text-align: right;\">4.0</td><td style = \"text-align: right;\">3.0</td><td style = \"text-align: right;\">4.0</td><td style = \"text-align: right;\">1824.84</td><td style = \"text-align: right;\">11.27</td><td style = \"text-align: right;\">809.98</td><td style = \"text-align: right;\">49.5749</td></tr><tr><td class = \"rowNumber\" style = \"font-weight: bold; text-align: right;\">7</td><td style = \"text-align: right;\">3.0</td><td style = \"text-align: right;\">8.0</td><td style = \"text-align: right;\">4.0</td><td style = \"text-align: right;\">22.5376</td><td style = \"text-align: right;\">271.0</td><td style = \"text-align: right;\">-1</td><td style = \"text-align: right;\">178.344</td><td style = \"text-align: right;\">244.565</td><td style = \"text-align: right;\">3</td><td style = \"text-align: right;\">3</td><td style = \"text-align: right;\">5</td><td style = \"text-align: right;\">23.0</td><td style = \"text-align: right;\">19114.1</td><td style = \"text-align: right;\">3.0</td><td style = \"text-align: right;\">4.0</td><td style = \"text-align: right;\">3.0</td><td style = \"text-align: right;\">4.0</td><td style = \"text-align: right;\">1824.84</td><td style = \"text-align: right;\">11.27</td><td style = \"text-align: right;\">809.98</td><td style = \"text-align: right;\">49.5749</td></tr><tr><td class = \"rowNumber\" style = \"font-weight: bold; text-align: right;\">8</td><td style = \"text-align: right;\">3.0</td><td style = \"text-align: right;\">6.0</td><td style = \"text-align: right;\">4.0</td><td style = \"text-align: right;\">23.9338</td><td style = \"text-align: right;\">271.0</td><td style = \"text-align: right;\">-1</td><td style = \"text-align: right;\">24.7852</td><td style = \"text-align: right;\">358.124</td><td style = \"text-align: right;\">2</td><td style = \"text-align: right;\">3</td><td style = \"text-align: right;\">5</td><td style = \"text-align: right;\">23.0</td><td style = \"text-align: right;\">19114.1</td><td style = \"text-align: right;\">3.0</td><td style = \"text-align: right;\">4.0</td><td style = \"text-align: right;\">3.0</td><td style = \"text-align: right;\">4.0</td><td style = \"text-align: right;\">1824.84</td><td style = \"text-align: right;\">11.27</td><td style = \"text-align: right;\">809.98</td><td style = \"text-align: right;\">49.5749</td></tr><tr><td class = \"rowNumber\" style = \"font-weight: bold; text-align: right;\">9</td><td style = \"text-align: right;\">3.0</td><td style = \"text-align: right;\">4.0</td><td style = \"text-align: right;\">2.0</td><td style = \"text-align: right;\">24.464</td><td style = \"text-align: right;\">319.0</td><td style = \"text-align: right;\">-1</td><td style = \"text-align: right;\">104.292</td><td style = \"text-align: right;\">470.691</td><td style = \"text-align: right;\">2</td><td style = \"text-align: right;\">3</td><td style = \"text-align: right;\">6</td><td style = \"text-align: right;\">28.0</td><td style = \"text-align: right;\">34847.8</td><td style = \"text-align: right;\">2.0</td><td style = \"text-align: right;\">4.0</td><td style = \"text-align: right;\">6.0</td><td style = \"text-align: right;\">1.0</td><td style = \"text-align: right;\">3037.99</td><td style = \"text-align: right;\">5.42</td><td style = \"text-align: right;\">605.03</td><td style = \"text-align: right;\">18.8162</td></tr><tr><td class = \"rowNumber\" style = \"font-weight: bold; text-align: right;\">10</td><td style = \"text-align: right;\">7.0</td><td style = \"text-align: right;\">1.0</td><td style = \"text-align: right;\">2.0</td><td style = \"text-align: right;\">38.5508</td><td style = \"text-align: right;\">320.0</td><td style = \"text-align: right;\">-1</td><td style = \"text-align: right;\">40.3912</td><td style = \"text-align: right;\">484.591</td><td style = \"text-align: right;\">3</td><td style = \"text-align: right;\">3</td><td style = \"text-align: right;\">6</td><td style = \"text-align: right;\">28.0</td><td style = \"text-align: right;\">34847.8</td><td style = \"text-align: right;\">2.0</td><td style = \"text-align: right;\">4.0</td><td style = \"text-align: right;\">6.0</td><td style = \"text-align: right;\">1.0</td><td style = \"text-align: right;\">3037.99</td><td style = \"text-align: right;\">5.42</td><td style = \"text-align: right;\">605.03</td><td style = \"text-align: right;\">18.8162</td></tr><tr><td class = \"rowNumber\" style = \"font-weight: bold; text-align: right;\">11</td><td style = \"text-align: right;\">3.0</td><td style = \"text-align: right;\">1.0</td><td style = \"text-align: right;\">2.0</td><td style = \"text-align: right;\">33.225</td><td style = \"text-align: right;\">321.0</td><td style = \"text-align: right;\">-1</td><td style = \"text-align: right;\">58.516</td><td style = \"text-align: right;\">466.466</td><td style = \"text-align: right;\">2</td><td style = \"text-align: right;\">3</td><td style = \"text-align: right;\">6</td><td style = \"text-align: right;\">28.0</td><td style = \"text-align: right;\">34847.8</td><td style = \"text-align: right;\">2.0</td><td style = \"text-align: right;\">4.0</td><td style = \"text-align: right;\">6.0</td><td style = \"text-align: right;\">1.0</td><td style = \"text-align: right;\">3037.99</td><td style = \"text-align: right;\">5.42</td><td style = \"text-align: right;\">605.03</td><td style = \"text-align: right;\">18.8162</td></tr><tr><td class = \"rowNumber\" style = \"font-weight: bold; text-align: right;\">12</td><td style = \"text-align: right;\">3.0</td><td style = \"text-align: right;\">3.0</td><td style = \"text-align: right;\">2.0</td><td style = \"text-align: right;\">39.1827</td><td style = \"text-align: right;\">322.0</td><td style = \"text-align: right;\">-1</td><td style = \"text-align: right;\">99.3062</td><td style = \"text-align: right;\">465.676</td><td style = \"text-align: right;\">3</td><td style = \"text-align: right;\">3</td><td style = \"text-align: right;\">6</td><td style = \"text-align: right;\">28.0</td><td style = \"text-align: right;\">34847.8</td><td style = \"text-align: right;\">2.0</td><td style = \"text-align: right;\">4.0</td><td style = \"text-align: right;\">6.0</td><td style = \"text-align: right;\">1.0</td><td style = \"text-align: right;\">3037.99</td><td style = \"text-align: right;\">5.42</td><td style = \"text-align: right;\">605.03</td><td style = \"text-align: right;\">18.8162</td></tr><tr><td class = \"rowNumber\" style = \"font-weight: bold; text-align: right;\">13</td><td style = \"text-align: right;\">3.0</td><td style = \"text-align: right;\">1.0</td><td style = \"text-align: right;\">2.0</td><td style = \"text-align: right;\">34.9779</td><td style = \"text-align: right;\">323.0</td><td style = \"text-align: right;\">-1</td><td style = \"text-align: right;\">130.115</td><td style = \"text-align: right;\">444.867</td><td style = \"text-align: right;\">3</td><td style = \"text-align: right;\">3</td><td style = \"text-align: right;\">6</td><td style = \"text-align: right;\">28.0</td><td style = \"text-align: right;\">34847.8</td><td style = \"text-align: right;\">2.0</td><td style = \"text-align: right;\">4.0</td><td style = \"text-align: right;\">6.0</td><td style = \"text-align: right;\">1.0</td><td style = \"text-align: right;\">3037.99</td><td style = \"text-align: right;\">5.42</td><td style = \"text-align: right;\">605.03</td><td style = \"text-align: right;\">18.8162</td></tr><tr><td style = \"text-align: right;\">&vellip;</td><td style = \"text-align: right;\">&vellip;</td><td style = \"text-align: right;\">&vellip;</td><td style = \"text-align: right;\">&vellip;</td><td style = \"text-align: right;\">&vellip;</td><td style = \"text-align: right;\">&vellip;</td><td style = \"text-align: right;\">&vellip;</td><td style = \"text-align: right;\">&vellip;</td><td style = \"text-align: right;\">&vellip;</td><td style = \"text-align: right;\">&vellip;</td><td style = \"text-align: right;\">&vellip;</td><td style = \"text-align: right;\">&vellip;</td><td style = \"text-align: right;\">&vellip;</td><td style = \"text-align: right;\">&vellip;</td><td style = \"text-align: right;\">&vellip;</td><td style = \"text-align: right;\">&vellip;</td><td style = \"text-align: right;\">&vellip;</td><td style = \"text-align: right;\">&vellip;</td><td style = \"text-align: right;\">&vellip;</td><td style = \"text-align: right;\">&vellip;</td><td style = \"text-align: right;\">&vellip;</td><td style = \"text-align: right;\">&vellip;</td></tr><tr><td class = \"rowNumber\" style = \"font-weight: bold; text-align: right;\">99949</td><td style = \"text-align: right;\">33.0</td><td style = \"text-align: right;\">25.0</td><td style = \"text-align: right;\">9.0</td><td style = \"text-align: right;\">28.5083</td><td style = \"text-align: right;\">72.0</td><td style = \"text-align: right;\">1</td><td style = \"text-align: right;\">213.978</td><td style = \"text-align: right;\">208.048</td><td style = \"text-align: right;\">2</td><td style = \"text-align: right;\">1</td><td style = \"text-align: right;\">6</td><td style = \"text-align: right;\">28.0</td><td style = \"text-align: right;\">20002.9</td><td style = \"text-align: right;\">10.0</td><td style = \"text-align: right;\">8.0</td><td style = \"text-align: right;\">29.0</td><td style = \"text-align: right;\">5.0</td><td style = \"text-align: right;\">1929.91</td><td style = \"text-align: right;\">18.31</td><td style = \"text-align: right;\">3571.7</td><td style = \"text-align: right;\">60.9648</td></tr><tr><td class = \"rowNumber\" style = \"font-weight: bold; text-align: right;\">99950</td><td style = \"text-align: right;\">33.0</td><td style = \"text-align: right;\">25.0</td><td style = \"text-align: right;\">9.0</td><td style = \"text-align: right;\">33.36</td><td style = \"text-align: right;\">73.0</td><td style = \"text-align: right;\">1</td><td style = \"text-align: right;\">74.3666</td><td style = \"text-align: right;\">307.659</td><td style = \"text-align: right;\">2</td><td style = \"text-align: right;\">1</td><td style = \"text-align: right;\">6</td><td style = \"text-align: right;\">28.0</td><td style = \"text-align: right;\">20002.9</td><td style = \"text-align: right;\">10.0</td><td style = \"text-align: right;\">8.0</td><td style = \"text-align: right;\">29.0</td><td style = \"text-align: right;\">5.0</td><td style = \"text-align: right;\">1929.91</td><td style = \"text-align: right;\">18.31</td><td style = \"text-align: right;\">3571.7</td><td style = \"text-align: right;\">60.9648</td></tr><tr><td class = \"rowNumber\" style = \"font-weight: bold; text-align: right;\">99951</td><td style = \"text-align: right;\">33.0</td><td style = \"text-align: right;\">26.0</td><td style = \"text-align: right;\">9.0</td><td style = \"text-align: right;\">25.1235</td><td style = \"text-align: right;\">73.0</td><td style = \"text-align: right;\">1</td><td style = \"text-align: right;\">173.276</td><td style = \"text-align: right;\">228.75</td><td style = \"text-align: right;\">2</td><td style = \"text-align: right;\">1</td><td style = \"text-align: right;\">6</td><td style = \"text-align: right;\">28.0</td><td style = \"text-align: right;\">20002.9</td><td style = \"text-align: right;\">10.0</td><td style = \"text-align: right;\">8.0</td><td style = \"text-align: right;\">29.0</td><td style = \"text-align: right;\">5.0</td><td style = \"text-align: right;\">1929.91</td><td style = \"text-align: right;\">18.31</td><td style = \"text-align: right;\">3571.7</td><td style = \"text-align: right;\">60.9648</td></tr><tr><td class = \"rowNumber\" style = \"font-weight: bold; text-align: right;\">99952</td><td style = \"text-align: right;\">33.0</td><td style = \"text-align: right;\">25.0</td><td style = \"text-align: right;\">9.0</td><td style = \"text-align: right;\">37.1408</td><td style = \"text-align: right;\">75.0</td><td style = \"text-align: right;\">1</td><td style = \"text-align: right;\">34.6629</td><td style = \"text-align: right;\">337.363</td><td style = \"text-align: right;\">2</td><td style = \"text-align: right;\">1</td><td style = \"text-align: right;\">6</td><td style = \"text-align: right;\">28.0</td><td style = \"text-align: right;\">20002.9</td><td style = \"text-align: right;\">10.0</td><td style = \"text-align: right;\">8.0</td><td style = \"text-align: right;\">29.0</td><td style = \"text-align: right;\">5.0</td><td style = \"text-align: right;\">1929.91</td><td style = \"text-align: right;\">18.31</td><td style = \"text-align: right;\">3571.7</td><td style = \"text-align: right;\">60.9648</td></tr><tr><td class = \"rowNumber\" style = \"font-weight: bold; text-align: right;\">99953</td><td style = \"text-align: right;\">23.0</td><td style = \"text-align: right;\">6.0</td><td style = \"text-align: right;\">3.0</td><td style = \"text-align: right;\">32.9913</td><td style = \"text-align: right;\">375.0</td><td style = \"text-align: right;\">-1</td><td style = \"text-align: right;\">401.196</td><td style = \"text-align: right;\">189.641</td><td style = \"text-align: right;\">1</td><td style = \"text-align: right;\">3</td><td style = \"text-align: right;\">5</td><td style = \"text-align: right;\">25.0</td><td style = \"text-align: right;\">39629.0</td><td style = \"text-align: right;\">4.0</td><td style = \"text-align: right;\">6.0</td><td style = \"text-align: right;\">7.0</td><td style = \"text-align: right;\">2.0</td><td style = \"text-align: right;\">3359.42</td><td style = \"text-align: right;\">11.5</td><td style = \"text-align: right;\">502.38</td><td style = \"text-align: right;\">35.104</td></tr><tr><td class = \"rowNumber\" style = \"font-weight: bold; text-align: right;\">99954</td><td style = \"text-align: right;\">23.0</td><td style = \"text-align: right;\">6.0</td><td style = \"text-align: right;\">3.0</td><td style = \"text-align: right;\">29.1354</td><td style = \"text-align: right;\">376.0</td><td style = \"text-align: right;\">-1</td><td style = \"text-align: right;\">180.733</td><td style = \"text-align: right;\">400.104</td><td style = \"text-align: right;\">2</td><td style = \"text-align: right;\">3</td><td style = \"text-align: right;\">5</td><td style = \"text-align: right;\">25.0</td><td style = \"text-align: right;\">39629.0</td><td style = \"text-align: right;\">4.0</td><td style = \"text-align: right;\">6.0</td><td style = \"text-align: right;\">7.0</td><td style = \"text-align: right;\">2.0</td><td style = \"text-align: right;\">3359.42</td><td style = \"text-align: right;\">11.5</td><td style = \"text-align: right;\">502.38</td><td style = \"text-align: right;\">35.104</td></tr><tr><td class = \"rowNumber\" style = \"font-weight: bold; text-align: right;\">99955</td><td style = \"text-align: right;\">20.0</td><td style = \"text-align: right;\">6.0</td><td style = \"text-align: right;\">3.0</td><td style = \"text-align: right;\">39.3236</td><td style = \"text-align: right;\">377.0</td><td style = \"text-align: right;\">-1</td><td style = \"text-align: right;\">140.581</td><td style = \"text-align: right;\">410.256</td><td style = \"text-align: right;\">1</td><td style = \"text-align: right;\">3</td><td style = \"text-align: right;\">5</td><td style = \"text-align: right;\">25.0</td><td style = \"text-align: right;\">39629.0</td><td style = \"text-align: right;\">4.0</td><td style = \"text-align: right;\">6.0</td><td style = \"text-align: right;\">7.0</td><td style = \"text-align: right;\">2.0</td><td style = \"text-align: right;\">3359.42</td><td style = \"text-align: right;\">11.5</td><td style = \"text-align: right;\">502.38</td><td style = \"text-align: right;\">35.104</td></tr><tr><td class = \"rowNumber\" style = \"font-weight: bold; text-align: right;\">99956</td><td style = \"text-align: right;\">23.0</td><td style = \"text-align: right;\">7.0</td><td style = \"text-align: right;\">3.0</td><td style = \"text-align: right;\">34.6636</td><td style = \"text-align: right;\">378.0</td><td style = \"text-align: right;\">-1</td><td style = \"text-align: right;\">60.9713</td><td style = \"text-align: right;\">479.866</td><td style = \"text-align: right;\">1</td><td style = \"text-align: right;\">3</td><td style = \"text-align: right;\">5</td><td style = \"text-align: right;\">25.0</td><td style = \"text-align: right;\">39629.0</td><td style = \"text-align: right;\">4.0</td><td style = \"text-align: right;\">6.0</td><td style = \"text-align: right;\">7.0</td><td style = \"text-align: right;\">2.0</td><td style = \"text-align: right;\">3359.42</td><td style = \"text-align: right;\">11.5</td><td style = \"text-align: right;\">502.38</td><td style = \"text-align: right;\">35.104</td></tr><tr><td class = \"rowNumber\" style = \"font-weight: bold; text-align: right;\">99957</td><td style = \"text-align: right;\">18.0</td><td style = \"text-align: right;\">7.0</td><td style = \"text-align: right;\">3.0</td><td style = \"text-align: right;\">40.5656</td><td style = \"text-align: right;\">379.0</td><td style = \"text-align: right;\">-1</td><td style = \"text-align: right;\">54.186</td><td style = \"text-align: right;\">496.652</td><td style = \"text-align: right;\">1</td><td style = \"text-align: right;\">3</td><td style = \"text-align: right;\">5</td><td style = \"text-align: right;\">25.0</td><td style = \"text-align: right;\">39629.0</td><td style = \"text-align: right;\">4.0</td><td style = \"text-align: right;\">6.0</td><td style = \"text-align: right;\">7.0</td><td style = \"text-align: right;\">2.0</td><td style = \"text-align: right;\">3359.42</td><td style = \"text-align: right;\">11.5</td><td style = \"text-align: right;\">502.38</td><td style = \"text-align: right;\">35.104</td></tr><tr><td class = \"rowNumber\" style = \"font-weight: bold; text-align: right;\">99958</td><td style = \"text-align: right;\">27.0</td><td style = \"text-align: right;\">6.0</td><td style = \"text-align: right;\">3.0</td><td style = \"text-align: right;\">41.2555</td><td style = \"text-align: right;\">380.0</td><td style = \"text-align: right;\">-1</td><td style = \"text-align: right;\">24.0285</td><td style = \"text-align: right;\">516.809</td><td style = \"text-align: right;\">1</td><td style = \"text-align: right;\">3</td><td style = \"text-align: right;\">5</td><td style = \"text-align: right;\">25.0</td><td style = \"text-align: right;\">39629.0</td><td style = \"text-align: right;\">4.0</td><td style = \"text-align: right;\">6.0</td><td style = \"text-align: right;\">7.0</td><td style = \"text-align: right;\">2.0</td><td style = \"text-align: right;\">3359.42</td><td style = \"text-align: right;\">11.5</td><td style = \"text-align: right;\">502.38</td><td style = \"text-align: right;\">35.104</td></tr><tr><td class = \"rowNumber\" style = \"font-weight: bold; text-align: right;\">99959</td><td style = \"text-align: right;\">20.0</td><td style = \"text-align: right;\">6.0</td><td style = \"text-align: right;\">3.0</td><td style = \"text-align: right;\">33.6382</td><td style = \"text-align: right;\">381.0</td><td style = \"text-align: right;\">-1</td><td style = \"text-align: right;\">251.673</td><td style = \"text-align: right;\">319.165</td><td style = \"text-align: right;\">2</td><td style = \"text-align: right;\">3</td><td style = \"text-align: right;\">5</td><td style = \"text-align: right;\">25.0</td><td style = \"text-align: right;\">39629.0</td><td style = \"text-align: right;\">4.0</td><td style = \"text-align: right;\">6.0</td><td style = \"text-align: right;\">7.0</td><td style = \"text-align: right;\">2.0</td><td style = \"text-align: right;\">3359.42</td><td style = \"text-align: right;\">11.5</td><td style = \"text-align: right;\">502.38</td><td style = \"text-align: right;\">35.104</td></tr><tr><td class = \"rowNumber\" style = \"font-weight: bold; text-align: right;\">99960</td><td style = \"text-align: right;\">18.0</td><td style = \"text-align: right;\">6.0</td><td style = \"text-align: right;\">3.0</td><td style = \"text-align: right;\">34.1925</td><td style = \"text-align: right;\">382.0</td><td style = \"text-align: right;\">-1</td><td style = \"text-align: right;\">167.164</td><td style = \"text-align: right;\">393.674</td><td style = \"text-align: right;\">1</td><td style = \"text-align: right;\">3</td><td style = \"text-align: right;\">5</td><td style = \"text-align: right;\">25.0</td><td style = \"text-align: right;\">39629.0</td><td style = \"text-align: right;\">4.0</td><td style = \"text-align: right;\">6.0</td><td style = \"text-align: right;\">7.0</td><td style = \"text-align: right;\">2.0</td><td style = \"text-align: right;\">3359.42</td><td style = \"text-align: right;\">11.5</td><td style = \"text-align: right;\">502.38</td><td style = \"text-align: right;\">35.104</td></tr></tbody></table></div>"
      ],
      "text/latex": [
       "\\begin{tabular}{r|ccccc}\n",
       "\t& Delay\\_from\\_due\\_date & Num\\_of\\_Delayed\\_Payment & Num\\_Credit\\_Inquiries & Credit\\_Utilization\\_Ratio & \\\\\n",
       "\t\\hline\n",
       "\t& Float64 & Float64 & Float64 & Float64 & \\\\\n",
       "\t\\hline\n",
       "\t1 & 3.0 & 7.0 & 4.0 & 26.8226 & $\\dots$ \\\\\n",
       "\t2 & 3.0 & 7.0 & 4.0 & 31.945 & $\\dots$ \\\\\n",
       "\t3 & 3.0 & 7.0 & 4.0 & 28.6094 & $\\dots$ \\\\\n",
       "\t4 & 5.0 & 4.0 & 4.0 & 31.3779 & $\\dots$ \\\\\n",
       "\t5 & 6.0 & 4.0 & 4.0 & 24.7973 & $\\dots$ \\\\\n",
       "\t6 & 8.0 & 4.0 & 4.0 & 27.2623 & $\\dots$ \\\\\n",
       "\t7 & 3.0 & 8.0 & 4.0 & 22.5376 & $\\dots$ \\\\\n",
       "\t8 & 3.0 & 6.0 & 4.0 & 23.9338 & $\\dots$ \\\\\n",
       "\t9 & 3.0 & 4.0 & 2.0 & 24.464 & $\\dots$ \\\\\n",
       "\t10 & 7.0 & 1.0 & 2.0 & 38.5508 & $\\dots$ \\\\\n",
       "\t11 & 3.0 & 1.0 & 2.0 & 33.225 & $\\dots$ \\\\\n",
       "\t12 & 3.0 & 3.0 & 2.0 & 39.1827 & $\\dots$ \\\\\n",
       "\t13 & 3.0 & 1.0 & 2.0 & 34.9779 & $\\dots$ \\\\\n",
       "\t14 & 3.0 & 0.0 & 2.0 & 33.381 & $\\dots$ \\\\\n",
       "\t15 & 3.0 & 4.0 & 2.0 & 31.1317 & $\\dots$ \\\\\n",
       "\t16 & 3.0 & 4.0 & 2.0 & 32.9339 & $\\dots$ \\\\\n",
       "\t17 & 5.0 & 8.0 & 3.0 & 28.6167 & $\\dots$ \\\\\n",
       "\t18 & 13.0 & 6.0 & 3.0 & 41.7026 & $\\dots$ \\\\\n",
       "\t19 & 8.0 & 7.0 & 3.0 & 26.5198 & $\\dots$ \\\\\n",
       "\t20 & 8.0 & 5.0 & 3.0 & 39.5016 & $\\dots$ \\\\\n",
       "\t21 & 10.0 & 5.0 & 3.0 & 31.3761 & $\\dots$ \\\\\n",
       "\t22 & 8.0 & 6.0 & 3.0 & 39.784 & $\\dots$ \\\\\n",
       "\t23 & 8.0 & 6.0 & 3.0 & 38.0686 & $\\dots$ \\\\\n",
       "\t24 & 8.0 & 6.0 & 3.0 & 38.3748 & $\\dots$ \\\\\n",
       "\t$\\dots$ & $\\dots$ & $\\dots$ & $\\dots$ & $\\dots$ &  \\\\\n",
       "\\end{tabular}\n"
      ],
      "text/plain": [
       "\u001b[1m99960×21 DataFrame\u001b[0m\n",
       "\u001b[1m   Row \u001b[0m│\u001b[1m Delay_from_due_date \u001b[0m\u001b[1m Num_of_Delayed_Payment \u001b[0m\u001b[1m Num_Credit_Inquiries \u001b[0m\u001b[1m Cr\u001b[0m ⋯\n",
       "       │\u001b[90m Float64             \u001b[0m\u001b[90m Float64                \u001b[0m\u001b[90m Float64              \u001b[0m\u001b[90m Fl\u001b[0m ⋯\n",
       "───────┼────────────────────────────────────────────────────────────────────────\n",
       "     1 │                 3.0                     7.0                   4.0     ⋯\n",
       "     2 │                 3.0                     7.0                   4.0\n",
       "     3 │                 3.0                     7.0                   4.0\n",
       "     4 │                 5.0                     4.0                   4.0\n",
       "     5 │                 6.0                     4.0                   4.0     ⋯\n",
       "     6 │                 8.0                     4.0                   4.0\n",
       "     7 │                 3.0                     8.0                   4.0\n",
       "     8 │                 3.0                     6.0                   4.0\n",
       "   ⋮   │          ⋮                     ⋮                      ⋮               ⋱\n",
       " 99954 │                23.0                     6.0                   3.0     ⋯\n",
       " 99955 │                20.0                     6.0                   3.0\n",
       " 99956 │                23.0                     7.0                   3.0\n",
       " 99957 │                18.0                     7.0                   3.0\n",
       " 99958 │                27.0                     6.0                   3.0     ⋯\n",
       " 99959 │                20.0                     6.0                   3.0\n",
       " 99960 │                18.0                     6.0                   3.0\n",
       "\u001b[36m                                               18 columns and 99945 rows omitted\u001b[0m"
      ]
     },
     "metadata": {},
     "output_type": "display_data"
    }
   ],
   "source": [
    "dataset = let\n",
    "    \n",
    "    dataset = copy(raw_data); # make a copy of the raw data, so we can keep the original intact\n",
    "    transform!(dataset, :Payment_of_Min_Amount => ByRow(x -> (x==\"No\" ? -1 : 1)) => :Payment_of_Min_Amount); # maps Payment_of_Min_Amount to -1,1\n",
    "    transform!(dataset, :Credit_Score => ByRow(s -> convertcreditscore(s))  => :Credit_Score); # maps Credit_Score to 1,2,3\n",
    "    transform!(dataset, :Credit_Mix => ByRow(s -> convertcreditmix(s))  => :Credit_Mix); # maps Credit_Mix to 1,2,3\n",
    "    transform!(dataset, :Payment_Behaviour => ByRow(s -> convertcreditbehavior(s))  => :Payment_Behaviour); # maps Payment_Behaviour to 1,2,3,4,5,6\n",
    "    dataset;\n",
    "end"
   ]
  },
  {
   "cell_type": "markdown",
   "id": "4638c6b0",
   "metadata": {},
   "source": [
    "Next, let's package the full dataset into a `Vector{Tuple{Vector{Float64}, OneHot{}}` data structure."
   ]
  },
  {
   "cell_type": "code",
   "execution_count": 6,
   "id": "4e57b275",
   "metadata": {},
   "outputs": [],
   "source": [
    "converted_dataset, features = let\n",
    "    converted_dataset = Vector{Tuple{Vector{Float32}, OneHotVector{UInt32}}}();\n",
    "    number_digit_array = [1,2,3]; # this is the digits for the labels\n",
    "\n",
    "    # which cols do we want to use as features - let's use all *but* the label -\n",
    "    all_cols = names(dataset);\n",
    "    features = Array{String,1}();\n",
    "    for col in all_cols\n",
    "        if col != :Credit_Score\n",
    "            push!(features, col);\n",
    "        end\n",
    "    end\n",
    "    features = features |> sort;\n",
    "    number_of_features = length(features);\n",
    "    \n",
    "    # build record tuples -\n",
    "    for record ∈ eachrow(dataset)\n",
    "\n",
    "        # convert the label to a one-hot vector\n",
    "        label = record[:Credit_Score]; # this is the label we want to predict \n",
    "        Y = onehot(label, number_digit_array); # convert the label to a one-hot vector\n",
    "        X = Vector{Float32}();\n",
    "\n",
    "        for i ∈ eachindex(features)\n",
    "            feature = features[i]; # get the feature name\n",
    "            value = record[feature] |> Float32; # get the value of the feature\n",
    "            push!(X, value); # add the value to the feature vector\n",
    "        end\n",
    "\n",
    "        data_tuple = (X, Y); # create a tuple of the feature vector and the label\n",
    "        push!(converted_dataset, data_tuple); # add the tuple to the dataset\n",
    "    end\n",
    "\n",
    "    converted_dataset, features;\n",
    "end;"
   ]
  },
  {
   "cell_type": "markdown",
   "id": "137e76b7",
   "metadata": {},
   "source": [
    "Test and training data"
   ]
  },
  {
   "cell_type": "code",
   "execution_count": null,
   "id": "e9a77738",
   "metadata": {},
   "outputs": [],
   "source": [
    "θ = 0.80; # what fraction of the data to use for training\n",
    "number_of_training_samples = Int64(θ * length(converted_dataset)); # 80% of the data will be used for training\n",
    "number_of_test_samples = length(converted_dataset) - number_of_training_samples; # the rest will be used for testing\n",
    "numner_of_features = length(features); # the number of features\n",
    "number_of_classes = 3;\n",
    "number_of_epochs = 100; # how many epochs do we want to train for?\n",
    "number_of_hidden_nodes = 2^10;"
   ]
  },
  {
   "cell_type": "code",
   "execution_count": 8,
   "id": "ace1e082",
   "metadata": {},
   "outputs": [],
   "source": [
    "training_dataset, test_dataset = let\n",
    "    \n",
    "    # initialize -\n",
    "    training_dataset = Vector{Tuple{Vector{Float32}, OneHotVector{UInt32}}}();\n",
    "    test_dataset = Vector{Tuple{Vector{Float32}, OneHotVector{UInt32}}}();\n",
    "    number_of_samples = length(converted_dataset);\n",
    "    all_index_set = range(1, stop=number_of_samples, step=1) |> Set{Int64};\n",
    "\n",
    "    # generate a set of random indices for training and testing -\n",
    "    random_training_index_set = Set{Int64}();\n",
    "    while length(random_training_index_set) ≤ number_of_training_samples\n",
    "        random_index = rand(1:number_of_samples);\n",
    "        push!(random_training_index_set, random_index);\n",
    "    end\n",
    "    random_test_index_set = setdiff(all_index_set, random_training_index_set); # the rest of the indices will be used for testing\n",
    "    \n",
    "    # populate the training set -\n",
    "    random_training_index_vector = random_training_index_set |> collect;\n",
    "    for i ∈ eachindex(random_training_index_vector)\n",
    "        index = random_training_index_vector[i];\n",
    "        push!(training_dataset, converted_dataset[index]);\n",
    "    end\n",
    "    \n",
    "    # populate the test set -\n",
    "    random_test_index_vector = random_test_index_set |> collect;\n",
    "    for i ∈ eachindex(random_test_index_vector)\n",
    "        index = random_test_index_vector[i];\n",
    "        push!(test_dataset, converted_dataset[index]);\n",
    "    end\n",
    "\n",
    "    training_dataset, test_dataset;\n",
    "end;"
   ]
  },
  {
   "cell_type": "markdown",
   "id": "dfb8db6d",
   "metadata": {},
   "source": [
    "## Task 2: Setup the model structure and training\n",
    "In this task, we'll construct and train a feedforward model, i.e., learn the model parameters, using example images encoded in the the `training_image_dataset::Vector{Tuple{Vector{Float32}, OneHotVector{UInt32}}}`. "
   ]
  },
  {
   "cell_type": "markdown",
   "id": "f6995364",
   "metadata": {},
   "source": [
    "Then, we build an empty model with default (random) parameter values but a fixed structure. The number and dimension of the layers and the activation functions for each layer are specified when we build the model (but we'll update the parameters during training).\n",
    "* _Library_: We use [the `Flux.jl` machine learning library](https://github.com/FluxML/Flux.jl) to construct the neural network model. The model will have three layers: the input layer is a `784` $\\times$ `512` layer with [relu activation functions](https://en.wikipedia.org/wiki/Rectifier_(neural_networks)), the hidden layer is a `512` $\\times$ `10` layer and the output layer is the [softmax function](https://en.wikipedia.org/wiki/Softmax_function).\n",
    "* _Syntax_: The [`Flux.jl` package](https://github.com/FluxML/Flux.jl) uses some next level syntax. The model is built using [the `Chain` function](https://fluxml.ai/Flux.jl/stable/reference/models/layers/#Flux.Chain), which takes a list of layers as input. Each layer is defined using the [`Dense` type](https://fluxml.ai/Flux.jl/stable/reference/models/layers/#Flux.Dense) (in this case), which takes the number of input and output neurons as arguments. The activation function is an additional argument to [the `Dense` type](https://fluxml.ai/Flux.jl/stable/reference/models/layers/#Flux.Dense). The final layer uses [the `softmax(...)` method exported by the `NNlib.jl` package](https://fluxml.ai/NNlib.jl/dev/reference/#Softmax) to produce a probability distribution over the classes."
   ]
  },
  {
   "cell_type": "code",
   "execution_count": null,
   "id": "91d1c0b3",
   "metadata": {},
   "outputs": [],
   "source": [
    "# TODO: Uncomment the code below to build the model!\n",
    "Flux.@layer MyFluxNeuralNetworkModel  trainable=(input, hidden); # create a \"namespaced\" of sorts\n",
    "MyModel() = MyFluxNeuralNetworkModel( # a strange type of constructor\n",
    "    Chain(\n",
    "        input = Dense(numner_of_features, number_of_hidden_nodes, tanh_fast),  # layer 1\n",
    "        hidden = Dense(number_of_hidden_nodes, number_of_classes, tanh_fast), # layer 2\n",
    "        output = NNlib.softmax) # layer 3 (output layer)\n",
    ");\n",
    "model = MyModel().chain;"
   ]
  },
  {
   "cell_type": "markdown",
   "id": "a02bebb5",
   "metadata": {},
   "source": [
    "__Loss function__: Next, specify the `loss` function we will minimize to estimate the model parameters. We choose a loss function that is appropriate for a _multiclass classification problem_, namely a [logit cross-entropy loss function](https://fluxml.ai/Flux.jl/stable/reference/models/losses/#Flux.Losses.logitcrossentropy):\n",
    "$$\n",
    "\\mathcal{L}(\\theta) = -\\frac{1}{N}\\sum_{i=1}^{N}\\sum_{j=1}^{C} y_{ij}\\log(p_{ij}(\\theta))\n",
    "$$\n",
    "where the outer summation is over all $N$ training examples, and the inner summation is over the $C$ possible classes. The $y_{ij}$ is the one-hot encoded label for the $i$th training example, and $p_{ij}$ is the predicted probability of the $i$th training example being in class $j$. "
   ]
  },
  {
   "cell_type": "code",
   "execution_count": 10,
   "id": "624ffafd",
   "metadata": {},
   "outputs": [],
   "source": [
    "# TODO: Uncomment below to setup the loss function -\n",
    "loss(ŷ, y) = Flux.Losses.logitcrossentropy(ŷ, y; agg = mean); # loss for training multiclass classifiers, what is the agg?"
   ]
  },
  {
   "cell_type": "markdown",
   "id": "fb72c657",
   "metadata": {},
   "source": [
    "We'll use [Gradient descent with momentum](https://en.wikipedia.org/wiki/Stochastic_gradient_descent#Momentum) where the `λ` parameter denotes the `learning rate` and `β` denotes the momentum parameter. We save information about the optimizer in the `opt_state` variable, which will eventually get passed to the training method."
   ]
  },
  {
   "cell_type": "code",
   "execution_count": null,
   "id": "ea8a5f9b",
   "metadata": {},
   "outputs": [],
   "source": [
    "λ = 0.20; # learning rate (default: 0.01)\n",
    "β = 0.10; # momentum parameter (default: 0.90)\n",
    "opt_state = Flux.setup(Momentum(λ, β), model);"
   ]
  },
  {
   "cell_type": "markdown",
   "id": "8e6ca1b8",
   "metadata": {},
   "source": [
    "We are now ready to train the model. If the `should_we_train = true,` then we use the [Gradient descent with momentum](https://en.wikipedia.org/wiki/Stochastic_gradient_descent#Momentum) to minimize a [logit cross-entropy loss function](https://fluxml.ai/Flux.jl/stable/reference/models/losses/#Flux.Losses.logitcrossentropy).\n",
    "* _Restart_: Because the error landscape is non-convex, we have to start from many different locations. We do `number_of_epochs` passes through the data, i.e., a forward pass for prediction and a backpropagation step for parameter updates. Although the training is a little opaque, intuition suggests that the library is choosing different initial parameter guesses for each pass through the data and then driving these to convergence.\n",
    "* _Training takes a long time_. For each complete pass through the data, i.e., for each `epoch,` we save a `tmp` file holding the network state... just in case of `BOOOOOOOOM.`  We also have some pre-trained models to load if the `should_we_train` flag is false."
   ]
  },
  {
   "cell_type": "code",
   "execution_count": null,
   "id": "80a2bbc6",
   "metadata": {},
   "outputs": [
    {
     "data": {
      "text/plain": [
       "Chain(\n",
       "  Dense(21 => 512, relu),               \u001b[90m# 11_264 parameters\u001b[39m\n",
       "  Dense(512 => 3, relu),                \u001b[90m# 1_539 parameters\u001b[39m\n",
       "  NNlib.softmax,\n",
       ") \u001b[90m                  # Total: 4 arrays, \u001b[39m12_803 parameters, 50.215 KiB."
      ]
     },
     "metadata": {},
     "output_type": "display_data"
    }
   ],
   "source": [
    "let\n",
    "\n",
    "    should_we_train = true # TODO: set this flag to {true | false}\n",
    "    if (should_we_train == true)\n",
    "        for i = 1:number_of_epochs\n",
    "            \n",
    "            # train the model -\n",
    "            Flux.train!(model, training_dataset, opt_state) do m, x, y\n",
    "                loss(m(x), y)\n",
    "            end\n",
    "        \n",
    "            # let the user know how we are doing -\n",
    "            if (rem(i,2) == 0)\n",
    "                @show \"Epoch $i of $number_of_epochs completed\" # print the epoch number\n",
    "            end\n",
    "        \n",
    "            # save the state of the model, in case something happens. We can reload from this state\n",
    "            jldsave(joinpath(_PATH_TO_DATA, \"tmp-model-training-checkpoint.jld2\"), model_state = Flux.state(model))    \n",
    "        end\n",
    "    else\n",
    "        # if we don't train: load up a previous model\n",
    "        model_state = JLD2.load(joinpath(_PATH_TO_DATA, \"tmp-model-training-checkpoint.jld2\"), \"model_state\");\n",
    "        Flux.loadmodel!(model, model_state);\n",
    "    end\n",
    "end"
   ]
  },
  {
   "cell_type": "markdown",
   "id": "6bd8329c",
   "metadata": {},
   "source": [
    "## Task 3: How well does the model predict unseen versus observed images?\n",
    "In this task, we'll check the network's generalization, i.e., how well it does on data it has not seen. One of the challenges with [Neural Networks)](https://en.wikipedia.org/wiki/Neural_network_(machine_learning)) is the lack of generalizability, i.e., they _may not_ perform well on data the model has not seen. \n",
    "\n",
    "Let's explore this question:\n",
    "* First, compute the fraction of the `training data` that is correctly classified. This will help us understand how many of the `N` training samples we get correct and how many we get wrong. We expect to be _mostly correct_ on the training data.\n",
    "* Next, we'll do the same thing but with the `test data,` i.e., data the model has never seen. We expect the correct prediction fraction on the test data to be less than or, at best, equal to the equivalent training data value."
   ]
  },
  {
   "cell_type": "markdown",
   "id": "b41e038c",
   "metadata": {},
   "source": [
    "### Correct prediction `training` dataset\n",
    "In the code block below, we pass the pixel data from the image into the `model` instance, compute the predicted label `ŷ,` and compare the predicted and actual labels for the `training` dataset.\n",
    "* _Logic_: If the prediction and the actual label agree, we update the `S` variable (a running count of the number of correct predictions). Finally, we compute the fraction of _correct_ classifications by dividing the number of correct predictions by the total number of images in the `training` dataset."
   ]
  },
  {
   "cell_type": "code",
   "execution_count": 17,
   "id": "3a4c9027",
   "metadata": {},
   "outputs": [
    {
     "name": "stdout",
     "output_type": "stream",
     "text": [
      "Correct prediction % on the training data: 53.156848278708004%\n"
     ]
    }
   ],
   "source": [
    "let \n",
    "    S_training = 0;\n",
    "    number_digit_array = [1,2,3]; # this is the digits for the labels\n",
    "    for i ∈ eachindex(training_dataset)\n",
    "    \n",
    "        x = training_dataset[i][1];\n",
    "        y = training_dataset[i][2];\n",
    "        ŷ = model(x) |> z-> argmax(z) |> z-> number_digit_array[z] |> z-> onehot(z,number_digit_array)\n",
    "        y == ŷ ? S_training +=1 : nothing\n",
    "    end\n",
    "    correct_prediction_training = (S_training/length(training_dataset))*100;\n",
    "    println(\"Correct prediction % on the training data: $(correct_prediction_training)%\");\n",
    "end"
   ]
  },
  {
   "cell_type": "code",
   "execution_count": null,
   "id": "12ea9751",
   "metadata": {},
   "outputs": [],
   "source": []
  }
 ],
 "metadata": {
  "kernelspec": {
   "display_name": "Julia 1.11.5",
   "language": "julia",
   "name": "julia-1.11"
  },
  "language_info": {
   "file_extension": ".jl",
   "mimetype": "application/julia",
   "name": "julia",
   "version": "1.11.5"
  }
 },
 "nbformat": 4,
 "nbformat_minor": 5
}
